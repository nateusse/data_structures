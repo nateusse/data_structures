{
 "cells": [
  {
   "cell_type": "markdown",
   "id": "cd301698",
   "metadata": {},
   "source": [
    "# 101"
   ]
  },
  {
   "cell_type": "markdown",
   "id": "f4ee3b1d",
   "metadata": {},
   "source": [
    " * [FizzBuzz](https://leetcode.com/problems/fizz-buzz/)\n",
    " * [Valid Sudoku](https://leetcode.com/problems/valid-sudoku/)\n",
    " * [Sort array by parity](https://leetcode.com/problems/sort-array-by-parity/)\n",
    " * [Excel Sheet column number](https://leetcode.com/problems/excel-sheet-column-number/)\n",
    " * [Pascal triangle](https://leetcode.com/problems/pascals-triangle/)\n",
    " * [Palindrom from String](https://leetcode.com/problems/can-make-palindrome-from-substring/)\n",
    " * [Reverse integer](https://leetcode.com/problems/reverse-integer/)\n",
    " * [Excel sheet column title](https://leetcode.com/problems/excel-sheet-column-title/)\n",
    " * [Palindorm number](https://leetcode.com/problems/palindrome-number/)\n",
    " * [Non-overlapping Intervals](https://leetcode.com/problems/non-overlapping-intervals/)\n",
    " * [Excel Sheet Column Number](https://leetcode.com/problems/excel-sheet-column-number/)\n",
    " * [Pascals triangle II](https://leetcode.com/problems/pascals-triangle-ii/)\n",
    " * [Merge Intervals](https://leetcode.com/problems/merge-intervals/)\n",
    " * [One Plus](https://leetcode.com/problems/plus-one/)\n",
    " *  Valid Palindrome"
   ]
  },
  {
   "cell_type": "markdown",
   "id": "58611a02",
   "metadata": {},
   "source": [
    "# 201\n",
    "* [One Plus](https://leetcode.com/problems/plus-one/)\n",
    "* spending_saving\n",
    "* sum_three_nums\n",
    "* area_triangulo\n",
    "* hello_harry\n",
    "* next_and_previus_number\n",
    "* apple_sharing\n",
    "* hours_and_minutes_after_midnight\n",
    "* two_bit_integer\n",
    "* Sum of three digits\n",
    "* swap last two digits\n",
    "* Reverse digits\n",
    "* dollar_and_cents\n",
    "* days of the week\n",
    "* digital_clock\n",
    "* clock_face\n",
    "* school_desk\n",
    "* car_route\n",
    "* century\n",
    "* [factorial trralining zeros](https://leetcode.com/problems/factorial-trailing-zeroes/)"
   ]
  },
  {
   "cell_type": "markdown",
   "id": "d448565d",
   "metadata": {},
   "source": []
  },
  {
   "cell_type": "markdown",
   "id": "d397f42e",
   "metadata": {},
   "source": []
  },
  {
   "cell_type": "markdown",
   "id": "9664723d",
   "metadata": {},
   "source": []
  },
  {
   "cell_type": "markdown",
   "id": "d568b066",
   "metadata": {},
   "source": []
  },
  {
   "cell_type": "markdown",
   "id": "34adb1df",
   "metadata": {},
   "source": [
    "\n"
   ]
  },
  {
   "cell_type": "markdown",
   "id": "2d961b0d",
   "metadata": {},
   "source": []
  },
  {
   "cell_type": "markdown",
   "id": "2f4f19fb",
   "metadata": {},
   "source": []
  },
  {
   "cell_type": "markdown",
   "id": "b975e106",
   "metadata": {},
   "source": []
  },
  {
   "cell_type": "markdown",
   "id": "691912bc",
   "metadata": {},
   "source": []
  },
  {
   "cell_type": "markdown",
   "id": "5ebe2c4d",
   "metadata": {},
   "source": []
  },
  {
   "cell_type": "markdown",
   "id": "c4842787",
   "metadata": {},
   "source": []
  },
  {
   "cell_type": "markdown",
   "id": "864357cb",
   "metadata": {},
   "source": []
  },
  {
   "cell_type": "markdown",
   "id": "2fe1af19",
   "metadata": {},
   "source": []
  },
  {
   "cell_type": "markdown",
   "id": "7980863c",
   "metadata": {},
   "source": []
  },
  {
   "cell_type": "markdown",
   "id": "9eebd905",
   "metadata": {},
   "source": []
  },
  {
   "cell_type": "markdown",
   "id": "54c1744a",
   "metadata": {},
   "source": []
  }
 ],
 "metadata": {
  "kernelspec": {
   "display_name": "Python 3.10.6 64-bit",
   "language": "python",
   "name": "python3"
  },
  "language_info": {
   "codemirror_mode": {
    "name": "ipython",
    "version": 3
   },
   "file_extension": ".py",
   "mimetype": "text/x-python",
   "name": "python",
   "nbconvert_exporter": "python",
   "pygments_lexer": "ipython3",
   "version": "3.10.6"
  },
  "vscode": {
   "interpreter": {
    "hash": "916dbcbb3f70747c44a77c7bcd40155683ae19c65e1c03b4aa3499c5328201f1"
   }
  }
 },
 "nbformat": 4,
 "nbformat_minor": 5
}
