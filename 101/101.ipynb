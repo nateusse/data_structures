{
 "cells": [
  {
   "cell_type": "markdown",
   "id": "3e546df2",
   "metadata": {},
   "source": [
    "\n",
    "# Undestand\n",
    "- Clarify what the interview is asking for\n",
    "# Match\n",
    "- Identify similar patterns and problems\n",
    "# Plan\n",
    "- Pseudocode and algorithm and prove it works\n",
    "- Smaller pieces of the problem, simpler version.\n",
    "- Write the plan as comments in my editor\n",
    "# Iimplement\n",
    "- Write the code.Working code that solves the problem correctly\n",
    "- It's ok to look in for the sintax\n",
    "# Review\n",
    "- Test solution \n",
    "- Did I solve the problem completely and correctly?\n",
    "# Evaluate\n",
    "- Analized time and space complexity\n",
    "- Was that the best solution?\n",
    "- Effieciency of solution(algorithm)\n"
   ]
  },
  {
   "cell_type": "markdown",
   "id": "a2e229b8",
   "metadata": {},
   "source": [
    "# Binary\n",
    "\n",
    "Binary = 0,1\n",
    "Decimal = 0 -10\n"
   ]
  },
  {
   "cell_type": "markdown",
   "id": "ceb79b4f",
   "metadata": {},
   "source": [
    "https://docs.google.com/presentation/d/1YaDmzDZIzTrwKlcnUSSqbkDpDnB2XlzeoWS-bZepPI8/edit#slide=id.gca818efea0_0_94\n",
    "\n",
    "# 0(1)\n",
    "\n",
    "\n",
    "\n"
   ]
  }
 ],
 "metadata": {
  "kernelspec": {
   "display_name": "Python 3 (ipykernel)",
   "language": "python",
   "name": "python3"
  },
  "language_info": {
   "codemirror_mode": {
    "name": "ipython",
    "version": 3
   },
   "file_extension": ".py",
   "mimetype": "text/x-python",
   "name": "python",
   "nbconvert_exporter": "python",
   "pygments_lexer": "ipython3",
   "version": "3.9.12"
  }
 },
 "nbformat": 4,
 "nbformat_minor": 5
}
