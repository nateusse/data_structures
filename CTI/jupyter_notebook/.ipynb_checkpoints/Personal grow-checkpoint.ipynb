{
 "cells": [
  {
   "cell_type": "markdown",
   "id": "23bb6fed",
   "metadata": {},
   "source": [
    "# 101\n",
    "\n",
    "\n",
    "## [Types of critical thinking](https://helpfulprofessor.com/thinking-skills/)\n",
    "- Analitical\n",
    "- Divergent\n",
    "- Critical thinking\n",
    "   - Inductive\n",
    "   - Deductive\n",
    "- Creative\n",
    "\n"
   ]
  },
  {
   "cell_type": "markdown",
   "id": "7eaa8d9d",
   "metadata": {},
   "source": [
    "## Fast and slow thinking\n",
    "- Informacion rapida vs topmarse el tiempo de asumir la pregunta"
   ]
  },
  {
   "cell_type": "markdown",
   "id": "3f096d4e",
   "metadata": {},
   "source": [
    "# Communicating well\n",
    "* Using structure\n",
    "    * Dont jump over the place, dile que les vas a decir, diles\n",
    "        y recuerdales lo que les dijiste\n",
    "* Beiing intentional\n",
    "    * Talk slowly, take breaks to think\n",
    "    * Escucha bien, lo que dicen y como reaccionan\n",
    "* Practice, practice, practice\n",
    "\n"
   ]
  },
  {
   "cell_type": "markdown",
   "id": "eee95497",
   "metadata": {},
   "source": [
    "# [Mental models](https://fs.blog/mental-models/)"
   ]
  },
  {
   "cell_type": "code",
   "execution_count": null,
   "id": "26718800",
   "metadata": {},
   "outputs": [],
   "source": []
  }
 ],
 "metadata": {
  "kernelspec": {
   "display_name": "Python 3 (ipykernel)",
   "language": "python",
   "name": "python3"
  },
  "language_info": {
   "codemirror_mode": {
    "name": "ipython",
    "version": 3
   },
   "file_extension": ".py",
   "mimetype": "text/x-python",
   "name": "python",
   "nbconvert_exporter": "python",
   "pygments_lexer": "ipython3",
   "version": "3.9.12"
  }
 },
 "nbformat": 4,
 "nbformat_minor": 5
}
